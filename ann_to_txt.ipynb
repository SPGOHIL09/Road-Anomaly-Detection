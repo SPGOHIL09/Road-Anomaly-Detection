{
 "cells": [
  {
   "cell_type": "code",
   "execution_count": 4,
   "id": "b3baf98c-552c-4b71-96d6-756105e86cfd",
   "metadata": {},
   "outputs": [
    {
     "name": "stdout",
     "output_type": "stream",
     "text": [
      "Executable: /opt/conda/envs/myenv/bin/python\n",
      "Version: 3.10.12\n"
     ]
    }
   ],
   "source": [
    "import sys\n",
    "import platform\n",
    "\n",
    "print(\"Executable:\", sys.executable)\n",
    "print(\"Version:\", platform.python_version())\n"
   ]
  },
  {
   "cell_type": "code",
   "execution_count": 12,
   "id": "fc9b42b4",
   "metadata": {},
   "outputs": [],
   "source": [
    "import os\n",
    "import json\n",
    "import glob\n",
    "import torch\n",
    "import logging\n",
    "\n",
    "logging.basicConfig(filename=\"conversion_errors.log\",level=logging.INFO)\n"
   ]
  },
  {
   "cell_type": "code",
   "execution_count": 13,
   "id": "eb248bf4",
   "metadata": {},
   "outputs": [
    {
     "name": "stdout",
     "output_type": "stream",
     "text": [
      "Using device: cuda\n"
     ]
    }
   ],
   "source": [
    "# Use of computer configured gpu\n",
    "if torch.backends.mps.is_available():\n",
    "    device = \"mps\"\n",
    "elif torch.cuda.is_available():\n",
    "    device = \"cuda\"\n",
    "else:\n",
    "    device = \"cpu\"\n",
    "print(f\"Using device: {device}\")"
   ]
  },
  {
   "cell_type": "code",
   "execution_count": 14,
   "id": "f93f5f8f",
   "metadata": {},
   "outputs": [
    {
     "name": "stdout",
     "output_type": "stream",
     "text": [
      "Loaded class mapping: {'longitudinal crack': 0, 'transverse crack': 1, 'alligator crack': 2, 'block crack': 3, 'pothole': 4, 'manhole cover': 5, 'other corruption': 6}\n"
     ]
    }
   ],
   "source": [
    "META_JSON_FILE = 'meta.json'\n",
    "with open(META_JSON_FILE, \"r\") as meta_file:\n",
    "    meta_data = json.load(meta_file)\n",
    "\n",
    "class_names = [\n",
    "    \"longitudinal crack\",\n",
    "    \"transverse crack\",\n",
    "    \"alligator crack\",\n",
    "    \"block crack\",\n",
    "    \"pothole\",\n",
    "    \"manhole cover\",\n",
    "    \"other corruption\"\n",
    "]\n",
    "class_map = {name: idx for idx, name in enumerate(class_names)}\n",
    "print(\"Loaded class mapping:\", class_map)"
   ]
  },
  {
   "cell_type": "code",
   "execution_count": 15,
   "id": "e385cbe2",
   "metadata": {},
   "outputs": [],
   "source": [
    "# Step 3: Process All JSON Files\n",
    "INPUT_JSON_DIR_TRAIN = \"datasets/yolo_dataset/train/annotations/\"\n",
    "INPUT_JSON_DIR_VAL = \"datasets/yolo_dataset/val/annotations/\"\n",
    "\n",
    "OUTPUT_DIR_TRAIN = \"datasets/yolo_dataset/train/labels/\"\n",
    "OUTPUT_DIR_VAL = \"datasets/yolo_dataset/val/labels/\"\n",
    "\n",
    "json_files_train = glob.glob(os.path.join(INPUT_JSON_DIR_TRAIN, \"*.json\"))\n",
    "json_files_test = glob.glob(os.path.join(INPUT_JSON_DIR_VAL, \"*.json\"))\n"
   ]
  },
  {
   "cell_type": "code",
   "execution_count": 16,
   "id": "b720b468",
   "metadata": {},
   "outputs": [],
   "source": [
    "def convert_json_to_yolo(json_file, output_dir):\n",
    "    with open(json_file, 'r') as json_f:\n",
    "        data = json.load(json_f)\n",
    "    \n",
    "    image_width, image_height = data[\"size\"][\"width\"], data[\"size\"][\"height\"]\n",
    "    yolo_annotations = []\n",
    "   \n",
    " \n",
    "    for obj in data[\"objects\"]:\n",
    "        class_name = obj[\"classTitle\"]\n",
    "        if class_name not in class_map:\n",
    "            logging.error(f\"Class '{class_name}' not found in class mapping. Skipping object.\")\n",
    "            continue\n",
    "\n",
    "        class_id = class_map[class_name]\n",
    "       \n",
    "        points = obj[\"points\"][\"exterior\"]\n",
    "        x_min, y_min = points[0]\n",
    "        x_max, y_max = points[1]\n",
    "        \n",
    "        x_center = (x_min + x_max) / 2.0 / image_width\n",
    "        y_center = (y_min + y_max) / 2.0 / image_height\n",
    "        width = (x_max - x_min) / image_width\n",
    "        height = (y_max - y_min) / image_height\n",
    "\n",
    "       \n",
    "        yolo_annotations.append(f\"{class_id} {x_center:.6f} {y_center:.6f} {width:.6f} {height:.6f}\")\n",
    "\n",
    "    output_txt = os.path.join(output_dir, os.path.basename(json_file).replace(\".jpg.json\", \".txt\"))\n",
    "    os.makedirs(output_dir, exist_ok=True)\n",
    "    with open(output_txt, \"w\") as f:\n",
    "        f.write(\"\\n\".join(yolo_annotations))\n",
    "\n",
    "    return f\"Converted: {json_file} → {output_txt}\""
   ]
  },
  {
   "cell_type": "code",
   "execution_count": 17,
   "id": "fdb58064",
   "metadata": {},
   "outputs": [
    {
     "name": "stdout",
     "output_type": "stream",
     "text": [
      "--------------------------------\n",
      "Processing Train Annotations...\n",
      "--------------------------------\n",
      "Processed Train Annotations...\n"
     ]
    }
   ],
   "source": [
    "# Converting train folder annotations\n",
    "print(\"--------------------------------\")\n",
    "print(\"Processing Train Annotations...\")\n",
    "for json_file in json_files_train:\n",
    "    convert_json_to_yolo(json_file, OUTPUT_DIR_TRAIN)\n",
    "print(\"--------------------------------\")\n",
    "print(\"Processed Train Annotations...\")"
   ]
  },
  {
   "cell_type": "code",
   "execution_count": 18,
   "id": "b8f28a84",
   "metadata": {},
   "outputs": [
    {
     "name": "stdout",
     "output_type": "stream",
     "text": [
      "--------------------------------\n",
      "Processing Validation Annotations...\n",
      "--------------------------------\n",
      "Processed Validation Annotations...\n"
     ]
    }
   ],
   "source": [
    "# Converting Val folder annotations\n",
    "print(\"--------------------------------\")\n",
    "print(\"Processing Validation Annotations...\")\n",
    "for json_file in json_files_test:\n",
    "    convert_json_to_yolo(json_file, OUTPUT_DIR_VAL)\n",
    "print(\"--------------------------------\")\n",
    "print(\"Processed Validation Annotations...\")"
   ]
  },
  {
   "cell_type": "code",
   "execution_count": 19,
   "id": "619b1995",
   "metadata": {},
   "outputs": [
    {
     "name": "stdout",
     "output_type": "stream",
     "text": [
      "Total number of files: 45708\n"
     ]
    }
   ],
   "source": [
    "import os\n",
    "\n",
    "folder_path = \"datasets/yolo_dataset/train/labels\"\n",
    "\n",
    "# List all entries and filter only files\n",
    "file_count = len([f for f in os.listdir(folder_path) if os.path.isfile(os.path.join(folder_path, f))])\n",
    "\n",
    "print(\"Total number of files:\", file_count)\n"
   ]
  },
  {
   "cell_type": "code",
   "execution_count": 20,
   "id": "205c3847-7b74-4519-afa3-56bb3d9de224",
   "metadata": {},
   "outputs": [
    {
     "name": "stdout",
     "output_type": "stream",
     "text": [
      ".gitignore file created successfully!\n"
     ]
    }
   ],
   "source": [
    "gitignore_content = \"\"\"\n",
    "# Python cache and environments\n",
    "__pycache__/\n",
    "*.pyc\n",
    "*.pyo\n",
    "*.pyd\n",
    "*.pdb\n",
    "venv/\n",
    "env/\n",
    "*.env\n",
    "*.venv\n",
    "\n",
    "# Jupyter Notebook checkpoints\n",
    ".ipynb_checkpoints\n",
    "\n",
    "# Dataset folders (images + annotations)\n",
    "datasets/\n",
    "__MACOSX/\n",
    "*.zip\n",
    "*.tar.gz\n",
    "\n",
    "# YOLO / model outputs\n",
    "runs/\n",
    "weights/\n",
    "*.pt\n",
    "*.pth\n",
    "*.ckpt\n",
    "\n",
    "# Logs and temporary files\n",
    "*.log\n",
    "*.tmp\n",
    "*.bak\n",
    "\n",
    "# OS specific files\n",
    ".DS_Store\n",
    "Thumbs.db\n",
    "\n",
    "# IDE files\n",
    ".vscode/\n",
    ".idea/\n",
    "*.sublime-project\n",
    "*.sublime-workspace\n",
    "\n",
    "# Checkpoints / progress files\n",
    "processed_images.txt\n",
    "\"\"\"\n",
    "\n",
    "with open(\".gitignore\", \"w\") as f:\n",
    "    f.write(gitignore_content)\n",
    "\n",
    "print(\".gitignore file created successfully!\")\n"
   ]
  },
  {
   "cell_type": "code",
   "execution_count": null,
   "id": "71fcc27d-451d-4c20-9e5c-2722225044e4",
   "metadata": {},
   "outputs": [],
   "source": []
  }
 ],
 "metadata": {
  "kernelspec": {
   "display_name": ".venv",
   "language": "python",
   "name": "python3"
  },
  "language_info": {
   "codemirror_mode": {
    "name": "ipython",
    "version": 3
   },
   "file_extension": ".py",
   "mimetype": "text/x-python",
   "name": "python",
   "nbconvert_exporter": "python",
   "pygments_lexer": "ipython3",
   "version": "3.10.11"
  }
 },
 "nbformat": 4,
 "nbformat_minor": 5
}
