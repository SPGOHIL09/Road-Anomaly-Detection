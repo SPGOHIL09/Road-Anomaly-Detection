{
 "cells": [
  {
   "cell_type": "code",
   "id": "initial_id",
   "metadata": {
    "collapsed": true,
    "ExecuteTime": {
     "end_time": "2025-05-28T04:43:49.125423Z",
     "start_time": "2025-05-28T04:43:46.387659Z"
    }
   },
   "source": [
    "import pandas as pd\n",
    "import os\n",
    "import shutil\n",
    "from sklearn.model_selection import train_test_split\n"
   ],
   "outputs": [],
   "execution_count": 3
  },
  {
   "metadata": {
    "ExecuteTime": {
     "end_time": "2025-05-28T04:43:51.269869Z",
     "start_time": "2025-05-28T04:43:51.265333Z"
    }
   },
   "cell_type": "code",
   "source": [
    "train_folder = 'Road_Dataset_14/train'\n",
    "img_folder = os.path.join(train_folder, 'img')\n",
    "ann_folder = os.path.join(train_folder, 'ann')\n",
    "\n",
    "train_output = 'datasets/yolo_dataset/train'\n",
    "val_output = 'datasets/yolo_dataset/val'\n",
    "\n",
    "train_img_output = os.path.join(train_output, 'images')\n",
    "train_ann_output = os.path.join(train_output, 'annotations')\n",
    "val_img_output = os.path.join(val_output, 'images')\n",
    "val_ann_output = os.path.join(val_output, 'annotations')\n",
    "\n",
    "for folder in [train_img_output, train_ann_output, val_img_output, val_ann_output]:\n",
    "    if not os.path.exists(folder):\n",
    "        os.makedirs(folder, exist_ok=True)"
   ],
   "id": "9bbe98f47768dedd",
   "outputs": [],
   "execution_count": 4
  },
  {
   "metadata": {
    "ExecuteTime": {
     "end_time": "2025-05-28T04:47:25.289353Z",
     "start_time": "2025-05-28T04:47:25.128783Z"
    }
   },
   "cell_type": "code",
   "source": [
    "# Make a list of images and annotations\n",
    "images_files = [f for f in os.listdir(img_folder) if f.endswith('.jpg')]\n",
    "ann_files = [f for f in os.listdir(ann_folder) if f.endswith('.json')]\n",
    "images_files.sort()\n",
    "ann_files.sort()\n",
    "\n",
    "# Check if the number of images matches the number of annotations\n",
    "assert len(images_files) == len(ann_files), \"Number of images and annotations do not match\""
   ],
   "id": "c83c841509b70df0",
   "outputs": [],
   "execution_count": 5
  },
  {
   "metadata": {
    "ExecuteTime": {
     "end_time": "2025-05-28T04:47:40.937630Z",
     "start_time": "2025-05-28T04:47:40.469429Z"
    }
   },
   "cell_type": "code",
   "source": [
    "# Check all the image and their respective annotation file are there in the list\n",
    "df = pd.DataFrame([images_files, ann_files])\n",
    "df.T"
   ],
   "id": "984538ad0448af6c",
   "outputs": [
    {
     "data": {
      "text/plain": [
       "                              0                              1\n",
       "0        China_Drone_000000.jpg    China_Drone_000000.jpg.json\n",
       "1        China_Drone_000001.jpg    China_Drone_000001.jpg.json\n",
       "2        China_Drone_000002.jpg    China_Drone_000002.jpg.json\n",
       "3        China_Drone_000003.jpg    China_Drone_000003.jpg.json\n",
       "4        China_Drone_000004.jpg    China_Drone_000004.jpg.json\n",
       "...                         ...                            ...\n",
       "38380  United_States_004800.jpg  United_States_004800.jpg.json\n",
       "38381  United_States_004801.jpg  United_States_004801.jpg.json\n",
       "38382  United_States_004802.jpg  United_States_004802.jpg.json\n",
       "38383  United_States_004803.jpg  United_States_004803.jpg.json\n",
       "38384  United_States_004804.jpg  United_States_004804.jpg.json\n",
       "\n",
       "[38385 rows x 2 columns]"
      ],
      "text/html": [
       "<div>\n",
       "<style scoped>\n",
       "    .dataframe tbody tr th:only-of-type {\n",
       "        vertical-align: middle;\n",
       "    }\n",
       "\n",
       "    .dataframe tbody tr th {\n",
       "        vertical-align: top;\n",
       "    }\n",
       "\n",
       "    .dataframe thead th {\n",
       "        text-align: right;\n",
       "    }\n",
       "</style>\n",
       "<table border=\"1\" class=\"dataframe\">\n",
       "  <thead>\n",
       "    <tr style=\"text-align: right;\">\n",
       "      <th></th>\n",
       "      <th>0</th>\n",
       "      <th>1</th>\n",
       "    </tr>\n",
       "  </thead>\n",
       "  <tbody>\n",
       "    <tr>\n",
       "      <th>0</th>\n",
       "      <td>China_Drone_000000.jpg</td>\n",
       "      <td>China_Drone_000000.jpg.json</td>\n",
       "    </tr>\n",
       "    <tr>\n",
       "      <th>1</th>\n",
       "      <td>China_Drone_000001.jpg</td>\n",
       "      <td>China_Drone_000001.jpg.json</td>\n",
       "    </tr>\n",
       "    <tr>\n",
       "      <th>2</th>\n",
       "      <td>China_Drone_000002.jpg</td>\n",
       "      <td>China_Drone_000002.jpg.json</td>\n",
       "    </tr>\n",
       "    <tr>\n",
       "      <th>3</th>\n",
       "      <td>China_Drone_000003.jpg</td>\n",
       "      <td>China_Drone_000003.jpg.json</td>\n",
       "    </tr>\n",
       "    <tr>\n",
       "      <th>4</th>\n",
       "      <td>China_Drone_000004.jpg</td>\n",
       "      <td>China_Drone_000004.jpg.json</td>\n",
       "    </tr>\n",
       "    <tr>\n",
       "      <th>...</th>\n",
       "      <td>...</td>\n",
       "      <td>...</td>\n",
       "    </tr>\n",
       "    <tr>\n",
       "      <th>38380</th>\n",
       "      <td>United_States_004800.jpg</td>\n",
       "      <td>United_States_004800.jpg.json</td>\n",
       "    </tr>\n",
       "    <tr>\n",
       "      <th>38381</th>\n",
       "      <td>United_States_004801.jpg</td>\n",
       "      <td>United_States_004801.jpg.json</td>\n",
       "    </tr>\n",
       "    <tr>\n",
       "      <th>38382</th>\n",
       "      <td>United_States_004802.jpg</td>\n",
       "      <td>United_States_004802.jpg.json</td>\n",
       "    </tr>\n",
       "    <tr>\n",
       "      <th>38383</th>\n",
       "      <td>United_States_004803.jpg</td>\n",
       "      <td>United_States_004803.jpg.json</td>\n",
       "    </tr>\n",
       "    <tr>\n",
       "      <th>38384</th>\n",
       "      <td>United_States_004804.jpg</td>\n",
       "      <td>United_States_004804.jpg.json</td>\n",
       "    </tr>\n",
       "  </tbody>\n",
       "</table>\n",
       "<p>38385 rows × 2 columns</p>\n",
       "</div>"
      ]
     },
     "execution_count": 6,
     "metadata": {},
     "output_type": "execute_result"
    }
   ],
   "execution_count": 6
  },
  {
   "metadata": {
    "ExecuteTime": {
     "end_time": "2025-05-28T04:55:21.830101Z",
     "start_time": "2025-05-28T04:55:21.810447Z"
    }
   },
   "cell_type": "code",
   "source": [
    "#Split the dataset\n",
    "train_images, val_images, train_ann, val_ann = train_test_split(images_files, ann_files, test_size=0.2, random_state=42, shuffle=True)"
   ],
   "id": "a2840ae02937719b",
   "outputs": [],
   "execution_count": 7
  },
  {
   "metadata": {
    "ExecuteTime": {
     "end_time": "2025-05-28T04:55:30.939128Z",
     "start_time": "2025-05-28T04:55:30.543236Z"
    }
   },
   "cell_type": "code",
   "source": [
    "#Checking the train\n",
    "train_check = pd.DataFrame([train_images, train_ann])\n",
    "train_check.T"
   ],
   "id": "17f0e3aea2a7809",
   "outputs": [
    {
     "data": {
      "text/plain": [
       "                              0                              1\n",
       "0      United_States_000805.jpg  United_States_000805.jpg.json\n",
       "1              Japan_004210.jpg          Japan_004210.jpg.json\n",
       "2             Norway_000802.jpg         Norway_000802.jpg.json\n",
       "3              Japan_007890.jpg          Japan_007890.jpg.json\n",
       "4             Norway_007584.jpg         Norway_007584.jpg.json\n",
       "...                         ...                            ...\n",
       "30703          Czech_002411.jpg          Czech_002411.jpg.json\n",
       "30704          India_005239.jpg          India_005239.jpg.json\n",
       "30705  United_States_004578.jpg  United_States_004578.jpg.json\n",
       "30706    China_Drone_000860.jpg    China_Drone_000860.jpg.json\n",
       "30707          Japan_001106.jpg          Japan_001106.jpg.json\n",
       "\n",
       "[30708 rows x 2 columns]"
      ],
      "text/html": [
       "<div>\n",
       "<style scoped>\n",
       "    .dataframe tbody tr th:only-of-type {\n",
       "        vertical-align: middle;\n",
       "    }\n",
       "\n",
       "    .dataframe tbody tr th {\n",
       "        vertical-align: top;\n",
       "    }\n",
       "\n",
       "    .dataframe thead th {\n",
       "        text-align: right;\n",
       "    }\n",
       "</style>\n",
       "<table border=\"1\" class=\"dataframe\">\n",
       "  <thead>\n",
       "    <tr style=\"text-align: right;\">\n",
       "      <th></th>\n",
       "      <th>0</th>\n",
       "      <th>1</th>\n",
       "    </tr>\n",
       "  </thead>\n",
       "  <tbody>\n",
       "    <tr>\n",
       "      <th>0</th>\n",
       "      <td>United_States_000805.jpg</td>\n",
       "      <td>United_States_000805.jpg.json</td>\n",
       "    </tr>\n",
       "    <tr>\n",
       "      <th>1</th>\n",
       "      <td>Japan_004210.jpg</td>\n",
       "      <td>Japan_004210.jpg.json</td>\n",
       "    </tr>\n",
       "    <tr>\n",
       "      <th>2</th>\n",
       "      <td>Norway_000802.jpg</td>\n",
       "      <td>Norway_000802.jpg.json</td>\n",
       "    </tr>\n",
       "    <tr>\n",
       "      <th>3</th>\n",
       "      <td>Japan_007890.jpg</td>\n",
       "      <td>Japan_007890.jpg.json</td>\n",
       "    </tr>\n",
       "    <tr>\n",
       "      <th>4</th>\n",
       "      <td>Norway_007584.jpg</td>\n",
       "      <td>Norway_007584.jpg.json</td>\n",
       "    </tr>\n",
       "    <tr>\n",
       "      <th>...</th>\n",
       "      <td>...</td>\n",
       "      <td>...</td>\n",
       "    </tr>\n",
       "    <tr>\n",
       "      <th>30703</th>\n",
       "      <td>Czech_002411.jpg</td>\n",
       "      <td>Czech_002411.jpg.json</td>\n",
       "    </tr>\n",
       "    <tr>\n",
       "      <th>30704</th>\n",
       "      <td>India_005239.jpg</td>\n",
       "      <td>India_005239.jpg.json</td>\n",
       "    </tr>\n",
       "    <tr>\n",
       "      <th>30705</th>\n",
       "      <td>United_States_004578.jpg</td>\n",
       "      <td>United_States_004578.jpg.json</td>\n",
       "    </tr>\n",
       "    <tr>\n",
       "      <th>30706</th>\n",
       "      <td>China_Drone_000860.jpg</td>\n",
       "      <td>China_Drone_000860.jpg.json</td>\n",
       "    </tr>\n",
       "    <tr>\n",
       "      <th>30707</th>\n",
       "      <td>Japan_001106.jpg</td>\n",
       "      <td>Japan_001106.jpg.json</td>\n",
       "    </tr>\n",
       "  </tbody>\n",
       "</table>\n",
       "<p>30708 rows × 2 columns</p>\n",
       "</div>"
      ]
     },
     "execution_count": 8,
     "metadata": {},
     "output_type": "execute_result"
    }
   ],
   "execution_count": 8
  },
  {
   "metadata": {
    "ExecuteTime": {
     "end_time": "2025-05-28T04:55:54.553314Z",
     "start_time": "2025-05-28T04:55:54.468075Z"
    }
   },
   "cell_type": "code",
   "source": [
    "# Checking the validation\n",
    "val_check = pd.DataFrame([val_images, val_ann])\n",
    "val_check.T"
   ],
   "id": "18b5c55b130ebaf5",
   "outputs": [
    {
     "data": {
      "text/plain": [
       "                      0                       1\n",
       "0      Czech_001051.jpg   Czech_001051.jpg.json\n",
       "1      Czech_003107.jpg   Czech_003107.jpg.json\n",
       "2      Japan_006809.jpg   Japan_006809.jpg.json\n",
       "3      Japan_001745.jpg   Japan_001745.jpg.json\n",
       "4      Japan_010527.jpg   Japan_010527.jpg.json\n",
       "...                 ...                     ...\n",
       "7672   Japan_004392.jpg   Japan_004392.jpg.json\n",
       "7673   Japan_003905.jpg   Japan_003905.jpg.json\n",
       "7674  Norway_003852.jpg  Norway_003852.jpg.json\n",
       "7675   Japan_011626.jpg   Japan_011626.jpg.json\n",
       "7676   Japan_000241.jpg   Japan_000241.jpg.json\n",
       "\n",
       "[7677 rows x 2 columns]"
      ],
      "text/html": [
       "<div>\n",
       "<style scoped>\n",
       "    .dataframe tbody tr th:only-of-type {\n",
       "        vertical-align: middle;\n",
       "    }\n",
       "\n",
       "    .dataframe tbody tr th {\n",
       "        vertical-align: top;\n",
       "    }\n",
       "\n",
       "    .dataframe thead th {\n",
       "        text-align: right;\n",
       "    }\n",
       "</style>\n",
       "<table border=\"1\" class=\"dataframe\">\n",
       "  <thead>\n",
       "    <tr style=\"text-align: right;\">\n",
       "      <th></th>\n",
       "      <th>0</th>\n",
       "      <th>1</th>\n",
       "    </tr>\n",
       "  </thead>\n",
       "  <tbody>\n",
       "    <tr>\n",
       "      <th>0</th>\n",
       "      <td>Czech_001051.jpg</td>\n",
       "      <td>Czech_001051.jpg.json</td>\n",
       "    </tr>\n",
       "    <tr>\n",
       "      <th>1</th>\n",
       "      <td>Czech_003107.jpg</td>\n",
       "      <td>Czech_003107.jpg.json</td>\n",
       "    </tr>\n",
       "    <tr>\n",
       "      <th>2</th>\n",
       "      <td>Japan_006809.jpg</td>\n",
       "      <td>Japan_006809.jpg.json</td>\n",
       "    </tr>\n",
       "    <tr>\n",
       "      <th>3</th>\n",
       "      <td>Japan_001745.jpg</td>\n",
       "      <td>Japan_001745.jpg.json</td>\n",
       "    </tr>\n",
       "    <tr>\n",
       "      <th>4</th>\n",
       "      <td>Japan_010527.jpg</td>\n",
       "      <td>Japan_010527.jpg.json</td>\n",
       "    </tr>\n",
       "    <tr>\n",
       "      <th>...</th>\n",
       "      <td>...</td>\n",
       "      <td>...</td>\n",
       "    </tr>\n",
       "    <tr>\n",
       "      <th>7672</th>\n",
       "      <td>Japan_004392.jpg</td>\n",
       "      <td>Japan_004392.jpg.json</td>\n",
       "    </tr>\n",
       "    <tr>\n",
       "      <th>7673</th>\n",
       "      <td>Japan_003905.jpg</td>\n",
       "      <td>Japan_003905.jpg.json</td>\n",
       "    </tr>\n",
       "    <tr>\n",
       "      <th>7674</th>\n",
       "      <td>Norway_003852.jpg</td>\n",
       "      <td>Norway_003852.jpg.json</td>\n",
       "    </tr>\n",
       "    <tr>\n",
       "      <th>7675</th>\n",
       "      <td>Japan_011626.jpg</td>\n",
       "      <td>Japan_011626.jpg.json</td>\n",
       "    </tr>\n",
       "    <tr>\n",
       "      <th>7676</th>\n",
       "      <td>Japan_000241.jpg</td>\n",
       "      <td>Japan_000241.jpg.json</td>\n",
       "    </tr>\n",
       "  </tbody>\n",
       "</table>\n",
       "<p>7677 rows × 2 columns</p>\n",
       "</div>"
      ]
     },
     "execution_count": 9,
     "metadata": {},
     "output_type": "execute_result"
    }
   ],
   "execution_count": 9
  },
  {
   "metadata": {
    "ExecuteTime": {
     "end_time": "2025-05-28T05:02:05.899581Z",
     "start_time": "2025-05-28T05:02:05.895194Z"
    }
   },
   "cell_type": "code",
   "source": [
    "def get_country(filename):\n",
    "    return filename.split('_')[0]"
   ],
   "id": "a6014eb0c92fee3",
   "outputs": [],
   "execution_count": 10
  },
  {
   "metadata": {
    "ExecuteTime": {
     "end_time": "2025-05-28T05:12:23.029694Z",
     "start_time": "2025-05-28T05:12:23.008497Z"
    }
   },
   "cell_type": "code",
   "source": [
    "from collections import Counter\n",
    "country_counts = Counter(get_country(f) for f in train_images)\n",
    "total_country_counts = Counter(get_country(f) for f in images_files)\n",
    "val_country_counts = Counter(get_country(f) for f in val_images)\n",
    "print(\"---Total Dataset Country Counts--\")\n",
    "for country, count in total_country_counts.items():\n",
    "    print(f\"{country}: {count} images\")\n",
    "\n",
    "print(\"---Train Dataset Country Counts---\")\n",
    "\n",
    "for country, count in country_counts.items():\n",
    "    print(f\"{country}: {count} images\")\n",
    "\n",
    "print(\"---Validation Dataset Country Counts---\")\n",
    "for country, count in val_country_counts.items():\n",
    "    print(f\"{country}: {count} images\")"
   ],
   "id": "8864ea4796d1b7a2",
   "outputs": [
    {
     "name": "stdout",
     "output_type": "stream",
     "text": [
      "---Total Dataset Country Counts--\n",
      "China: 4378 images\n",
      "Czech: 2829 images\n",
      "India: 7706 images\n",
      "Japan: 10506 images\n",
      "Norway: 8161 images\n",
      "United: 4805 images\n",
      "---Train Dataset Country Counts---\n",
      "United: 3846 images\n",
      "Japan: 8470 images\n",
      "Norway: 6486 images\n",
      "Czech: 2258 images\n",
      "India: 6163 images\n",
      "China: 3485 images\n",
      "---Validation Dataset Country Counts---\n",
      "Czech: 571 images\n",
      "Japan: 2036 images\n",
      "India: 1543 images\n",
      "Norway: 1675 images\n",
      "China: 893 images\n",
      "United: 959 images\n"
     ]
    }
   ],
   "execution_count": 14
  },
  {
   "metadata": {
    "ExecuteTime": {
     "end_time": "2025-05-28T05:15:01.773490Z",
     "start_time": "2025-05-28T05:14:19.712422Z"
    }
   },
   "cell_type": "code",
   "source": [
    "# Copying the new split training images and their annotations files into new train folder\n",
    "for img, ann in zip(train_images, train_ann):\n",
    "    shutil.copy(os.path.join(img_folder, img), os.path.join(train_img_output, img))\n",
    "    shutil.copy(os.path.join(ann_folder, ann), os.path.join(train_ann_output, ann))"
   ],
   "id": "206501bd815394d9",
   "outputs": [],
   "execution_count": 15
  },
  {
   "metadata": {
    "ExecuteTime": {
     "end_time": "2025-05-28T05:15:26.889762Z",
     "start_time": "2025-05-28T05:15:12.344572Z"
    }
   },
   "cell_type": "code",
   "source": [
    "# Copying the new split validation images and their annotations files into new\n",
    "for img, ann in zip(val_images, val_ann):\n",
    "    shutil.copy(os.path.join(img_folder, img), os.path.join(val_img_output, img))\n",
    "    shutil.copy(os.path.join(ann_folder, ann), os.path.join(val_ann_output, ann))"
   ],
   "id": "564653d51c33de60",
   "outputs": [],
   "execution_count": 16
  },
  {
   "metadata": {},
   "cell_type": "code",
   "outputs": [],
   "execution_count": null,
   "source": "",
   "id": "77dc1c2f7d200907"
  }
 ],
 "metadata": {
  "kernelspec": {
   "display_name": "Python 3",
   "language": "python",
   "name": "python3"
  },
  "language_info": {
   "codemirror_mode": {
    "name": "ipython",
    "version": 2
   },
   "file_extension": ".py",
   "mimetype": "text/x-python",
   "name": "python",
   "nbconvert_exporter": "python",
   "pygments_lexer": "ipython2",
   "version": "2.7.6"
  }
 },
 "nbformat": 4,
 "nbformat_minor": 5
}
