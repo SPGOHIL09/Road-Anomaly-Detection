{
 "cells": [
  {
   "cell_type": "code",
   "execution_count": 1,
   "id": "d048c03a",
   "metadata": {},
   "outputs": [],
   "source": [
    "import os\n",
    "import json\n",
    "import shutil\n",
    "import glob\n",
    "import torch\n",
    "import cv2\n",
    "import random\n",
    "import numpy as np\n",
    "from sklearn.model_selection import train_test_split\n",
    "import logging\n",
    "import pandas as pd\n",
    "\n",
    "from ultralytics import YOLO"
   ]
  },
  {
   "cell_type": "code",
   "execution_count": 2,
   "id": "ad684f42",
   "metadata": {},
   "outputs": [
    {
     "name": "stdout",
     "output_type": "stream",
     "text": [
      "🚀 Using device: mps\n"
     ]
    }
   ],
   "source": [
    "# Check if the MPS (Metal Performance Shaders) backend is available for Apple Silicon devices\n",
    "if torch.backends.mps.is_available():\n",
    "    device = \"mps\"\n",
    "# If MPS is not available, check if CUDA (NVIDIA GPUs) is available\n",
    "elif torch.cuda.is_available():\n",
    "    device = \"cuda\"\n",
    "# If neither MPS nor CUDA is available, fall back to using the CPU\n",
    "else:\n",
    "    device = \"cpu\"\n",
    "# Print the device being used for training\n",
    "print(f\"🚀 Using device: {device}\")"
   ]
  },
  {
   "cell_type": "code",
   "execution_count": 3,
   "id": "8011ef97",
   "metadata": {},
   "outputs": [
    {
     "name": "stdout",
     "output_type": "stream",
     "text": [
      "Loaded class mapping: {'longitudinal crack': 0, 'transverse crack': 1, 'alligator crack': 2, 'block crack': 3, 'pothole': 4, 'manhole cover': 5, 'other corruption': 6}\n"
     ]
    }
   ],
   "source": [
    "META_JSON_FILE = 'meta.json'\n",
    "with open(META_JSON_FILE, \"r\") as meta_file:\n",
    "    meta_data = json.load(meta_file)\n",
    "\n",
    "class_names = [\n",
    "    \"longitudinal crack\",\n",
    "    \"transverse crack\",\n",
    "    \"alligator crack\",\n",
    "    \"block crack\",\n",
    "    \"pothole\",\n",
    "    \"manhole cover\",\n",
    "    \"other corruption\"\n",
    "]\n",
    "class_map = {name: idx for idx, name in enumerate(class_names)}\n",
    "print(\"Loaded class mapping:\", class_map)"
   ]
  },
  {
   "cell_type": "code",
   "execution_count": null,
   "id": "1a9e1d99",
   "metadata": {},
   "outputs": [],
   "source": []
  }
 ],
 "metadata": {
  "kernelspec": {
   "display_name": ".venv",
   "language": "python",
   "name": "python3"
  },
  "language_info": {
   "codemirror_mode": {
    "name": "ipython",
    "version": 3
   },
   "file_extension": ".py",
   "mimetype": "text/x-python",
   "name": "python",
   "nbconvert_exporter": "python",
   "pygments_lexer": "ipython3",
   "version": "3.10.11"
  }
 },
 "nbformat": 4,
 "nbformat_minor": 5
}
